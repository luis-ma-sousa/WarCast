{
 "cells": [
  {
   "cell_type": "markdown",
   "id": "63ffa89f-2bfa-4b34-8a0c-045d17739b39",
   "metadata": {},
   "source": [
    "# Data Cleaning and database creation"
   ]
  },
  {
   "cell_type": "markdown",
   "id": "6b5b6a72-ba98-4c75-80c0-920bf1d1afa5",
   "metadata": {
    "jp-MarkdownHeadingCollapsed": true
   },
   "source": [
    "## Battles list"
   ]
  },
  {
   "cell_type": "code",
   "execution_count": 22,
   "id": "a4ad4e84-8a4e-44a3-af28-991515863244",
   "metadata": {},
   "outputs": [],
   "source": [
    "import pandas as pd\n",
    "import re\n",
    "\n",
    "def clean_battles_csv(\n",
    "    csv_path: str,\n",
    "    output_csv: str = \"clean_battles.csv\"\n",
    "):\n",
    "    # Load CSV\n",
    "    df = pd.read_csv(csv_path)\n",
    "\n",
    "    # Step 1: Clean battle_name\n",
    "    def clean_battle_name(name):\n",
    "        name = str(name)\n",
    "        if \"(\" in name and \")\" in name:\n",
    "            match = re.search(r'\\(([^)]+)\\)', name)\n",
    "            if match:\n",
    "                content = match.group(1)\n",
    "                if not content.isalpha():\n",
    "                    name = re.sub(r'\\([^)]*\\)', '', name)\n",
    "        return name.strip()\n",
    "\n",
    "    df[\"battle_name\"] = df[\"battle_name\"].apply(clean_battle_name)\n",
    "\n",
    "    # Step 2: Fill year column\n",
    "    def extract_year(row):\n",
    "        if pd.notnull(row[\"year\"]):\n",
    "            return row[\"year\"]\n",
    "        desc = str(row[\"description\"])\n",
    "        parts = desc.split('-')\n",
    "\n",
    "        if len(parts) > 1 and any(x in parts[1] for x in [\"BCE\", \"BC\"]):\n",
    "            try:\n",
    "                year_candidate = int(re.findall(r'\\d+', parts[1])[0])\n",
    "                return -1 * year_candidate\n",
    "            except:\n",
    "                return None\n",
    "        elif len(parts) > 0 and any(x in parts[0] for x in [\"BCE\", \"BC\"]):\n",
    "            match = re.search(r'(\\d+)\\s*(BCE|BC)', parts[0])\n",
    "            if match:\n",
    "                return -1 * int(match.group(1))\n",
    "        return None\n",
    "\n",
    "    df[\"year\"] = df.apply(extract_year, axis=1)\n",
    "\n",
    "    # Step 3: Clean and fill conflict\n",
    "    def extract_conflict(row):\n",
    "        conflict = row.get(\"conflict\", None)\n",
    "        if pd.notnull(conflict):\n",
    "            raw = str(conflict)\n",
    "        else:\n",
    "            desc_parts = str(row[\"description\"]).split('-')\n",
    "            if len(desc_parts) > 2:\n",
    "                raw = desc_parts[2]\n",
    "            else:\n",
    "                return None\n",
    "\n",
    "        # Normalize specific war names\n",
    "        raw = re.sub(r'^.*(World War I).*$', 'World War I', raw)\n",
    "        raw = re.sub(r'^.*(World War II).*$', 'World War II', raw)\n",
    "        raw = re.sub(r'\\bWWI\\b', 'World War I', raw)\n",
    "        raw = re.sub(r'\\bWWII\\b', 'World War II', raw)\n",
    "\n",
    "        # Remove numeric or symbol prefix like '1645 -' or '? -'\n",
    "        raw = re.sub(r'^[\\d\\?\\s]*-\\s*', '', raw)\n",
    "\n",
    "        # Clean up unmatched characters and stray symbols\n",
    "        raw = raw.strip()\n",
    "        raw = re.sub(r'^[\\d\\s]*\\)\\-?', '', raw)\n",
    "        raw = re.sub(r'^[\\)\\-,\\s]+', '', raw)\n",
    "        raw = re.sub(r'[\\(\\)]', '', raw)\n",
    "\n",
    "        return raw.strip() if raw else None\n",
    "\n",
    "    df[\"conflict\"] = df.apply(extract_conflict, axis=1)\n",
    "\n",
    "    # Step 4: Format columns and handle missing values\n",
    "    df[\"battle_id\"] = pd.to_numeric(df[\"battle_id\"], errors=\"coerce\").astype(\"Int64\")\n",
    "    df[\"year\"] = pd.to_numeric(df[\"year\"], errors=\"coerce\").astype(\"Int64\")\n",
    "    df[\"description\"] = df[\"description\"].replace(\"None\", pd.NA).astype(\"string\")\n",
    "    df[\"conflict\"] = df[\"conflict\"].replace(\"None\", pd.NA).astype(\"string\")\n",
    "    if \"wiki_link\" not in df.columns:\n",
    "        df[\"wiki_link\"] = pd.NA\n",
    "    df[\"wiki_link\"] = df[\"wiki_link\"].replace(\"None\", pd.NA).astype(\"string\")\n",
    "\n",
    "    # Save cleaned version to CSV\n",
    "    df.to_csv(output_csv, index=False)\n",
    "    print(f\"✅ Cleaned CSV saved as '{output_csv}' with {len(df)} rows.\")\n",
    "\n"
   ]
  },
  {
   "cell_type": "code",
   "execution_count": 25,
   "id": "ef44c33f-26aa-4e67-944a-b448673f452b",
   "metadata": {},
   "outputs": [
    {
     "name": "stdout",
     "output_type": "stream",
     "text": [
      "✅ Cleaned CSV saved as 'clean_battles.csv' with 962 rows.\n"
     ]
    }
   ],
   "source": [
    "clean_battles_csv('/Users/louis/Desktop/Coding/Github/WarCast/Pre-clean data/battles_list.csv')"
   ]
  },
  {
   "cell_type": "code",
   "execution_count": null,
   "id": "ea999e2c-4f1c-44c3-adb7-aa49496b15cd",
   "metadata": {},
   "outputs": [],
   "source": []
  },
  {
   "cell_type": "raw",
   "id": "2ad2046a-6e58-4546-a54a-444c95938dd1",
   "metadata": {},
   "source": [
    "#### Manual cleaning of very specific formatting in the 'conflict' column."
   ]
  },
  {
   "cell_type": "code",
   "execution_count": null,
   "id": "2ba8fe5c-d49b-495a-9e8f-c77453f84198",
   "metadata": {},
   "outputs": [],
   "source": []
  },
  {
   "cell_type": "markdown",
   "id": "6070dbb5-04e1-4cec-bec7-687cc8e36429",
   "metadata": {},
   "source": [
    "### Upload to database file"
   ]
  },
  {
   "cell_type": "code",
   "execution_count": 26,
   "id": "a371f0bd-274a-43c1-8466-5a10b4ed5a12",
   "metadata": {},
   "outputs": [],
   "source": [
    "import pandas as pd\n",
    "import sqlite3\n",
    "\n",
    "def insert_clean_csv_to_sqlite(\n",
    "    csv_path: str,\n",
    "    db_path: str,\n",
    "    table_name: str,\n",
    "    schema: str,\n",
    "    replace_table: bool = False\n",
    "):\n",
    "    # Load the cleaned CSV\n",
    "    df = pd.read_csv(csv_path)\n",
    "\n",
    "    # Connect to the SQLite database\n",
    "    conn = sqlite3.connect(db_path)\n",
    "    cursor = conn.cursor()\n",
    "\n",
    "    # Create table if needed (you define schema manually)\n",
    "    cursor.execute(f\"CREATE TABLE IF NOT EXISTS {table_name} ({schema});\")\n",
    "\n",
    "    # Choose insertion mode\n",
    "    if replace_table:\n",
    "        insertion_mode = \"replace\"\n",
    "    else:\n",
    "        insertion_mode = \"append\"\n",
    "\n",
    "    # Insert the data\n",
    "    df.to_sql(table_name, conn, if_exists=insertion_mode, index=False)\n",
    "\n",
    "    conn.commit()\n",
    "    conn.close()\n",
    "    print(f\"✅ Inserted {len(df)} rows into table '{table_name}' in '{db_path}'.\")\n",
    "\n"
   ]
  },
  {
   "cell_type": "code",
   "execution_count": 27,
   "id": "ac564626-343f-405c-8875-0c8d21d23b7e",
   "metadata": {},
   "outputs": [
    {
     "name": "stdout",
     "output_type": "stream",
     "text": [
      "✅ Inserted 962 rows into table 'battles' in 'warcast.db'.\n"
     ]
    }
   ],
   "source": [
    "insert_clean_csv_to_sqlite(\n",
    "    csv_path='/Users/louis/Desktop/Coding/Github/WarCast/Clean data/clean_battles.csv',\n",
    "    db_path=\"warcast.db\",\n",
    "    table_name=\"battles\",\n",
    "    schema=\"\"\"\n",
    "        battle_id INTEGER PRIMARY KEY,\n",
    "        battle_name TEXT,\n",
    "        year INTEGER,\n",
    "        description TEXT,\n",
    "        conflict TEXT,\n",
    "        wiki_link TEXT\n",
    "    \"\"\",\n",
    "    replace_table=True\n",
    ")"
   ]
  },
  {
   "cell_type": "markdown",
   "id": "627392a3-0566-4ed8-b765-dbc512a8565b",
   "metadata": {
    "jp-MarkdownHeadingCollapsed": true
   },
   "source": [
    "## Battle info"
   ]
  },
  {
   "cell_type": "raw",
   "id": "6294a864-78ff-4a6a-9bb6-4e9722c4014b",
   "metadata": {},
   "source": [
    "Manual cleaning of very specific formatting in the 'country' column."
   ]
  },
  {
   "cell_type": "markdown",
   "id": "b0360bfb-1dae-4358-ade3-a0a263dcec49",
   "metadata": {},
   "source": [
    "### Primary key resetting and column formatting"
   ]
  },
  {
   "cell_type": "code",
   "execution_count": 37,
   "id": "bb43134b-a5c5-452c-aa03-52bb679082dd",
   "metadata": {},
   "outputs": [],
   "source": [
    "import pandas as pd\n",
    "\n",
    "def clean_participants_csv(\n",
    "    csv_path: str = \"battle_participants.csv\",\n",
    "    output_path: str = \"clean_battle_participants.csv\"\n",
    "):\n",
    "    # Load CSV\n",
    "    df = pd.read_csv(csv_path)\n",
    "\n",
    "    # Step 1: Reset `participant_id` column\n",
    "    if \"participant_id\" in df.columns:\n",
    "        df.drop(columns=[\"participant_id\"], inplace=True)\n",
    "    df.insert(0, \"participant_id\", df.index + 1)\n",
    "\n",
    "    # Step 2: Enforce specific formats\n",
    "    df[\"participant_id\"] = pd.to_numeric(df[\"participant_id\"], downcast=\"integer\")\n",
    "    df[\"battle_id\"] = pd.to_numeric(df[\"battle_id\"], errors=\"coerce\").astype(\"Int64\")\n",
    "    df[\"country\"] = df[\"country\"].astype(\"string\")\n",
    "    df[\"troops\"] = pd.to_numeric(df[\"troops\"], errors=\"coerce\").astype(\"Int64\")\n",
    "    df[\"deaths\"] = pd.to_numeric(df[\"deaths\"], errors=\"coerce\").astype(\"Int64\")\n",
    "    df[\"result\"] = df[\"result\"].astype(\"string\")\n",
    "\n",
    "    # Step 3: Save cleaned file\n",
    "    df.to_csv(output_path, index=False)\n",
    "    print(f\"✅ Cleaned participant data saved to '{output_path}' with {len(df)} rows.\")\n"
   ]
  },
  {
   "cell_type": "code",
   "execution_count": 40,
   "id": "dfcaea14-d142-4e56-941f-1ef823aafbc5",
   "metadata": {},
   "outputs": [
    {
     "name": "stdout",
     "output_type": "stream",
     "text": [
      "✅ Cleaned participant data saved to 'clean_battle_participants.csv' with 3182 rows.\n"
     ]
    }
   ],
   "source": [
    "clean_participants_csv('/Users/louis/Desktop/Coding/Github/WarCast/Pre-clean data/battle_info.csv')"
   ]
  },
  {
   "cell_type": "markdown",
   "id": "5406d54e-2f3e-4a34-ba8a-179b2db27b81",
   "metadata": {},
   "source": [
    "### Upload to the database"
   ]
  },
  {
   "cell_type": "code",
   "execution_count": 48,
   "id": "b7c6bbbf-e0aa-4f0c-9ed6-cb8a4ff33f9b",
   "metadata": {},
   "outputs": [
    {
     "name": "stdout",
     "output_type": "stream",
     "text": [
      "✅ Inserted 3182 rows into table 'battle_info' in 'warcast.db'.\n"
     ]
    }
   ],
   "source": [
    "insert_clean_csv_to_sqlite(\n",
    "    csv_path='/Users/louis/Desktop/Coding/Github/WarCast/Clean data/clean_battle_info.csv',\n",
    "    db_path=\"warcast.db\",\n",
    "    table_name=\"battle_info\",\n",
    "    schema=\"\"\"\n",
    "        participant_id INTEGER PRIMARY KEY,\n",
    "        battle_id INTEGER,\n",
    "        country TEXT,\n",
    "        troops INTEGER,\n",
    "        deaths INTEGER,\n",
    "        result TEXT\n",
    "    \"\"\",\n",
    "    replace_table=True\n",
    ")"
   ]
  },
  {
   "cell_type": "markdown",
   "id": "df0524e7-c9f2-4967-85c7-2181ed6633b7",
   "metadata": {
    "jp-MarkdownHeadingCollapsed": true
   },
   "source": [
    "## GDP"
   ]
  },
  {
   "cell_type": "code",
   "execution_count": 28,
   "id": "90296fb1-f7e3-481a-a0dc-59e859a80e85",
   "metadata": {},
   "outputs": [],
   "source": [
    "import pandas as pd\n",
    "import sqlite3\n",
    "\n",
    "def process_gdp_excel_to_sqlite(\n",
    "    excel_path: str,\n",
    "    db_path: str = \"warcast.db\",\n",
    "    table_name: str = \"gdp\"\n",
    "):\n",
    "    # Step 1: Load Excel\n",
    "    df = pd.read_excel(excel_path)\n",
    "    \n",
    "    # Step 2: Melt into long format\n",
    "    df_melted = df.melt(\n",
    "        id_vars=[\"Country Name\"],\n",
    "        var_name=\"year\",\n",
    "        value_name=\"gdp\"\n",
    "    )\n",
    "    \n",
    "    # Step 3: Clean\n",
    "    df_melted.rename(columns={\"Country Name\": \"country\"}, inplace=True)\n",
    "    df_melted = df_melted.dropna(subset=[\"gdp\"])\n",
    "    df_melted[\"year\"] = pd.to_numeric(df_melted[\"year\"], errors=\"coerce\").dropna().astype(int)\n",
    "    df_melted[\"gdp\"] = pd.to_numeric(df_melted[\"gdp\"], errors=\"coerce\").round(2)\n",
    "\n",
    "    # Step 4: Add surrogate key (optional if you're going to use AUTOINCREMENT in SQL)\n",
    "    df_melted = df_melted.sort_values(by=[\"country\", \"year\"]).reset_index(drop=True)\n",
    "    df_melted.insert(0, \"id\", df_melted.index + 1)\n",
    "\n",
    "    # Step 5: Save cleaned CSV (optional but useful for inspection)\n",
    "    df_melted.to_csv(\"clean_gdp.csv\", index=False)\n",
    "\n",
    "    # Step 6: Create or insert into SQLite\n",
    "    conn = sqlite3.connect(db_path)\n",
    "    cursor = conn.cursor()\n",
    "\n",
    "    # Create table (safe to run repeatedly due to IF NOT EXISTS)\n",
    "    cursor.execute(f\"\"\"\n",
    "    CREATE TABLE IF NOT EXISTS {table_name} (\n",
    "        id INTEGER PRIMARY KEY,\n",
    "        country TEXT,\n",
    "        year INTEGER,\n",
    "        gdp REAL,\n",
    "        UNIQUE (country, year)\n",
    "    );\n",
    "    \"\"\")\n",
    "\n",
    "    # Insert into database\n",
    "    df_melted.to_sql(table_name, conn, if_exists=\"append\", index=False)\n",
    "\n",
    "    conn.commit()\n",
    "    conn.close()\n",
    "\n",
    "    print(f\"✅ Processed and saved GDP data to table '{table_name}' in {db_path}\")\n"
   ]
  },
  {
   "cell_type": "code",
   "execution_count": 29,
   "id": "e5776fd0-190c-4a29-9262-0ef8e76f8931",
   "metadata": {},
   "outputs": [
    {
     "name": "stdout",
     "output_type": "stream",
     "text": [
      "✅ Processed and saved GDP data to table 'gdp' in warcast.db\n"
     ]
    }
   ],
   "source": [
    "process_gdp_excel_to_sqlite('/Users/louis/Desktop/Coding/Github/WarCast/Pre-clean data/GDP per country_1988-2022.xlsx')"
   ]
  },
  {
   "cell_type": "markdown",
   "id": "e6952779-4780-4ada-b54e-fce521ed2fed",
   "metadata": {
    "jp-MarkdownHeadingCollapsed": true
   },
   "source": [
    "## Political regime"
   ]
  },
  {
   "cell_type": "code",
   "execution_count": 30,
   "id": "c4101db1-2c94-4a17-8b47-9a86854340d0",
   "metadata": {},
   "outputs": [],
   "source": [
    "import pandas as pd\n",
    "import sqlite3\n",
    "\n",
    "# Mapping from code to regime label\n",
    "REGIME_MAP = {\n",
    "    0: \"closed autocracy\",\n",
    "    1: \"electoral autocracy\",\n",
    "    2: \"electoral democracy\",\n",
    "    3: \"liberal democracy\"\n",
    "}\n",
    "\n",
    "def process_political_regime_to_sqlite(\n",
    "    csv_path: str = \"political-regime.csv\",\n",
    "    db_path: str = \"warcast.db\",\n",
    "    table_name: str = \"political_regime\"\n",
    "):\n",
    "    # Step 1: Load CSV\n",
    "    df = pd.read_csv(csv_path)\n",
    "\n",
    "    # Step 2: Rename relevant columns\n",
    "    df = df.rename(columns={\n",
    "        \"Entity\": \"country\",\n",
    "        \"Year\": \"year\",\n",
    "        df.columns[-1]: \"regime_code\"  # Last column is assumed to be the regime score\n",
    "    })\n",
    "\n",
    "    # Step 3: Map regime code to readable labels\n",
    "    df[\"regime_type\"] = df[\"regime_code\"].map(REGIME_MAP)\n",
    "\n",
    "    # Step 4: Sort and add surrogate ID\n",
    "    df = df.sort_values(by=[\"country\", \"year\"]).reset_index(drop=True)\n",
    "    df.insert(0, \"id\", df.index + 1)\n",
    "\n",
    "    # Step 5: Save full cleaned CSV including 'Code'\n",
    "    df.to_csv(\"clean_political_regime.csv\", index=False)\n",
    "\n",
    "    # Step 6: Connect to SQLite and create table\n",
    "    conn = sqlite3.connect(db_path)\n",
    "    cursor = conn.cursor()\n",
    "\n",
    "    cursor.execute(f\"\"\"\n",
    "    CREATE TABLE IF NOT EXISTS {table_name} (\n",
    "        id INTEGER PRIMARY KEY,\n",
    "        country TEXT,\n",
    "        year INTEGER,\n",
    "        regime_code INTEGER,\n",
    "        regime_type TEXT,\n",
    "        UNIQUE (country, year)\n",
    "    );\n",
    "    \"\"\")\n",
    "\n",
    "    # Step 7: Insert only relevant columns into SQL\n",
    "    df_sql = df[[\"id\", \"country\", \"year\", \"regime_code\", \"regime_type\"]]\n",
    "    try:\n",
    "        df_sql.to_sql(table_name, conn, if_exists=\"append\", index=False)\n",
    "        print(f\"✅ Inserted data into table '{table_name}' in {db_path}\")\n",
    "    except Exception as e:\n",
    "        print(f\"❌ Failed to insert data: {e}\")\n",
    "\n",
    "    conn.commit()\n",
    "    conn.close()\n"
   ]
  },
  {
   "cell_type": "code",
   "execution_count": 31,
   "id": "0abb6158-c257-4d89-b55f-dbb37e550bc8",
   "metadata": {},
   "outputs": [
    {
     "name": "stdout",
     "output_type": "stream",
     "text": [
      "✅ Inserted data into table 'political_regime' in warcast.db\n"
     ]
    }
   ],
   "source": [
    "process_political_regime_to_sqlite('/Users/louis/Desktop/Coding/Github/WarCast/Raw Data/political-regime/political-regime.csv')"
   ]
  },
  {
   "cell_type": "markdown",
   "id": "587b09d7-68cd-4748-970f-751bfdb00097",
   "metadata": {
    "jp-MarkdownHeadingCollapsed": true
   },
   "source": [
    "## Population"
   ]
  },
  {
   "cell_type": "code",
   "execution_count": 45,
   "id": "a29900e7-da6c-4e53-bf98-a3eae7c22837",
   "metadata": {},
   "outputs": [],
   "source": [
    "import pandas as pd\n",
    "\n",
    "def clean_population_csv(\n",
    "    csv_path: str = \"\",\n",
    "    output_path: str = \"clean_population.csv\"\n",
    "):\n",
    "    # Load the raw file\n",
    "    df = pd.read_csv(csv_path)\n",
    "\n",
    "    # Step 1: Rename columns\n",
    "    df.rename(columns={\n",
    "        \"Entity\": \"Country\",\n",
    "        \"Population (historical)\": \"Population\"\n",
    "    }, inplace=True)\n",
    "\n",
    "    # Step 2: Enforce data types\n",
    "    df[\"Country\"] = df[\"Country\"].astype(\"string\")\n",
    "    df[\"Code\"] = df[\"Code\"].astype(\"string\")\n",
    "    df[\"Year\"] = pd.to_numeric(df[\"Year\"], errors=\"coerce\").astype(\"Int64\")\n",
    "    df[\"Population\"] = pd.to_numeric(df[\"Population\"], errors=\"coerce\").astype(\"Int64\")\n",
    "\n",
    "    # Step 3: Save cleaned file\n",
    "    df.to_csv(output_path, index=False)\n",
    "    print(f\"✅ Cleaned population data saved to '{output_path}' with {len(df)} rows.\")\n"
   ]
  },
  {
   "cell_type": "code",
   "execution_count": 46,
   "id": "e3447037-7da5-49d1-b95c-4876dfa4988f",
   "metadata": {},
   "outputs": [
    {
     "name": "stdout",
     "output_type": "stream",
     "text": [
      "✅ Cleaned population data saved to 'clean_population.csv' with 59177 rows.\n"
     ]
    }
   ],
   "source": [
    "clean_population_csv('/Users/louis/Desktop/Coding/Github/WarCast/Raw Data/population/population.csv')"
   ]
  },
  {
   "cell_type": "markdown",
   "id": "7ccba942-a31a-4584-bcc1-2fa6e7849147",
   "metadata": {},
   "source": [
    "### Upload to database"
   ]
  },
  {
   "cell_type": "code",
   "execution_count": 49,
   "id": "ea939f2c-2a1d-496d-8352-8e9346b4f3b0",
   "metadata": {},
   "outputs": [
    {
     "name": "stdout",
     "output_type": "stream",
     "text": [
      "✅ Inserted 59177 rows into table 'population' in 'warcast.db'.\n"
     ]
    }
   ],
   "source": [
    "insert_clean_csv_to_sqlite(\n",
    "    csv_path='/Users/louis/Desktop/Coding/Github/WarCast/Clean data/clean_population.csv',\n",
    "    db_path=\"warcast.db\",\n",
    "    table_name=\"population\",\n",
    "    schema=\"\"\"\n",
    "        id INTEGER PRIMARY KEY,\n",
    "        Country TEXT,\n",
    "        Code TEXT,\n",
    "        Year INTEGER,\n",
    "        Population INTEGER\n",
    "    \"\"\",\n",
    "    replace_table=True\n",
    ")"
   ]
  },
  {
   "cell_type": "markdown",
   "id": "5ff2e7fb-d56c-4d41-989e-e11cdf669810",
   "metadata": {
    "jp-MarkdownHeadingCollapsed": true
   },
   "source": [
    "## Corruption Perception Index"
   ]
  },
  {
   "cell_type": "code",
   "execution_count": 55,
   "id": "18dba2ef-bf0a-42b1-87ee-8a008287cdf1",
   "metadata": {},
   "outputs": [],
   "source": [
    "import pandas as pd\n",
    "\n",
    "def clean_cpi_scores(\n",
    "    excel_path: str,\n",
    "    output_path: str = \"clean_cpi.csv\"\n",
    "):\n",
    "    # Load Excel\n",
    "    df = pd.read_csv(excel_path,encoding='latin1')\n",
    "\n",
    "    # Step 1: Keep only country info and CPI score columns\n",
    "    cpi_cols = [col for col in df.columns if \"CPI score\" in col]\n",
    "    base_cols = [\"Country\", \"ISO3\"]\n",
    "    df = df[base_cols + cpi_cols]\n",
    "\n",
    "    # Step 2: Melt to long format\n",
    "    df_long = df.melt(\n",
    "        id_vars=[\"Country\", \"ISO3\"],\n",
    "        var_name=\"year\",\n",
    "        value_name=\"cpi_score\"\n",
    "    )\n",
    "\n",
    "    # Step 3: Clean year column from 'CPI score YYYY' → YYYY\n",
    "    df_long[\"year\"] = df_long[\"year\"].str.extract(r'(\\d{4})').astype(\"Int64\")\n",
    "\n",
    "    # Step 4: Format columns\n",
    "    df_long = df_long.rename(columns={\"Country\": \"country\", \"ISO3\": \"code\"})\n",
    "    df_long[\"country\"] = df_long[\"country\"].astype(\"string\")\n",
    "    df_long[\"code\"] = df_long[\"code\"].astype(\"string\")\n",
    "    df_long[\"cpi_score\"] = pd.to_numeric(df_long[\"cpi_score\"], errors=\"coerce\").astype(\"Int64\")\n",
    "\n",
    "    # Step 5: Add auto ID\n",
    "    df_long = df_long.sort_values(by=[\"country\", \"year\"]).reset_index(drop=True)\n",
    "    df_long.insert(0, \"id\", df_long.index + 1)\n",
    "\n",
    "    # Step 6: Save cleaned file\n",
    "    df_long.to_csv(output_path, index=False)\n",
    "    print(f\"✅ Cleaned CPI data saved to '{output_path}' with {len(df_long)} rows.\")"
   ]
  },
  {
   "cell_type": "code",
   "execution_count": 57,
   "id": "f19ae915-6717-4685-bd06-d3a8f95b2409",
   "metadata": {},
   "outputs": [
    {
     "name": "stdout",
     "output_type": "stream",
     "text": [
      "✅ Cleaned CPI data saved to 'clean_cpi.csv' with 1260 rows.\n"
     ]
    }
   ],
   "source": [
    "clean_cpi_scores('/Users/louis/Desktop/Coding/Github/WarCast/Pre-clean data/CPI2020_GlobalTablesTS_210125.csv')"
   ]
  },
  {
   "cell_type": "markdown",
   "id": "9985d891-8817-4760-86a7-db370a268932",
   "metadata": {},
   "source": [
    "### Upload to database"
   ]
  },
  {
   "cell_type": "code",
   "execution_count": 58,
   "id": "ba2545bc-153e-4495-be84-a752c6869a0d",
   "metadata": {},
   "outputs": [
    {
     "name": "stdout",
     "output_type": "stream",
     "text": [
      "✅ Inserted 59177 rows into table 'cpi' in 'warcast.db'.\n"
     ]
    }
   ],
   "source": [
    "insert_clean_csv_to_sqlite(\n",
    "    csv_path='/Users/louis/Desktop/Coding/Github/WarCast/Clean data/clean_population.csv',\n",
    "    db_path=\"warcast.db\",\n",
    "    table_name=\"cpi\",\n",
    "    schema=\"\"\"\n",
    "        id INTEGER PRIMARY KEY,\n",
    "        country TEXT,\n",
    "        code TEXT,\n",
    "        year INTEGER,\n",
    "        cpi_score INTEGER\n",
    "    \"\"\",\n",
    "    replace_table=True\n",
    ")"
   ]
  },
  {
   "cell_type": "markdown",
   "id": "3414ac63-2aab-4ca1-9a14-eeff522fac3e",
   "metadata": {
    "jp-MarkdownHeadingCollapsed": true
   },
   "source": [
    "## Military investment"
   ]
  },
  {
   "cell_type": "code",
   "execution_count": 59,
   "id": "6e2b4ff0-20f1-47fa-b07d-6f02fea93c01",
   "metadata": {},
   "outputs": [],
   "source": [
    "import pandas as pd\n",
    "\n",
    "def clean_military_percent_gdp(\n",
    "    csv_path: str = \"Military percent GDP.csv\",\n",
    "    output_path: str = \"clean_military_gdp.csv\"\n",
    "):\n",
    "    # Load raw CSV\n",
    "    df = pd.read_csv(csv_path)\n",
    "\n",
    "    # Step 1: Drop unused columns\n",
    "    df = df.drop(columns=[\"Indicator Name\", \"Indicator Code\"], errors=\"ignore\")\n",
    "\n",
    "    # Step 2: Melt into tall format\n",
    "    df_long = df.melt(\n",
    "        id_vars=[\"Country Name\", \"Country Code\"],\n",
    "        var_name=\"year\",\n",
    "        value_name=\"military_percent_gdp\"\n",
    "    )\n",
    "\n",
    "    # Step 3: Rename columns and enforce types\n",
    "    df_long = df_long.rename(columns={\n",
    "        \"Country Name\": \"country\",\n",
    "        \"Country Code\": \"code\"\n",
    "    })\n",
    "\n",
    "    df_long[\"country\"] = df_long[\"country\"].astype(\"string\")\n",
    "    df_long[\"code\"] = df_long[\"code\"].astype(\"string\")\n",
    "    df_long[\"year\"] = pd.to_numeric(df_long[\"year\"], errors=\"coerce\").astype(\"Int64\")\n",
    "    df_long[\"military_percent_gdp\"] = pd.to_numeric(df_long[\"military_percent_gdp\"], errors=\"coerce\").astype(\"float\")\n",
    "\n",
    "    # Step 4: Add auto ID\n",
    "    df_long = df_long.sort_values(by=[\"country\", \"year\"]).reset_index(drop=True)\n",
    "    df_long.insert(0, \"id\", df_long.index + 1)\n",
    "\n",
    "    # Step 5: Save cleaned version\n",
    "    df_long.to_csv(output_path, index=False)\n",
    "    print(f\"✅ Cleaned military GDP data saved to '{output_path}' with {len(df_long)} rows.\")\n"
   ]
  },
  {
   "cell_type": "code",
   "execution_count": 60,
   "id": "08102bc7-6779-40a9-9ed5-61856b616ff6",
   "metadata": {},
   "outputs": [
    {
     "name": "stdout",
     "output_type": "stream",
     "text": [
      "✅ Cleaned military GDP data saved to 'clean_military_gdp.csv' with 17024 rows.\n"
     ]
    }
   ],
   "source": [
    "clean_military_percent_gdp('/Users/louis/Desktop/Coding/Github/WarCast/Pre-clean data/Military percent GDP.csv')"
   ]
  },
  {
   "cell_type": "markdown",
   "id": "96041774-3ec7-4935-9f0b-5db7b7d8dd3c",
   "metadata": {},
   "source": [
    "### Upload to the database"
   ]
  },
  {
   "cell_type": "code",
   "execution_count": 61,
   "id": "020b0a2c-b53c-4fb8-ae7f-483a49eafcbd",
   "metadata": {},
   "outputs": [
    {
     "name": "stdout",
     "output_type": "stream",
     "text": [
      "✅ Inserted 59177 rows into table 'gdp_military' in 'warcast.db'.\n"
     ]
    }
   ],
   "source": [
    "insert_clean_csv_to_sqlite(\n",
    "    csv_path='/Users/louis/Desktop/Coding/Github/WarCast/Clean data/clean_population.csv',\n",
    "    db_path=\"warcast.db\",\n",
    "    table_name=\"gdp_military\",\n",
    "    schema=\"\"\"\n",
    "        id INTEGER PRIMARY KEY,\n",
    "        country TEXT,\n",
    "        code TEXT,\n",
    "        year INTEGER,\n",
    "        military_percent_gdp REAL\n",
    "    \"\"\",\n",
    "    replace_table=True\n",
    ")"
   ]
  }
 ],
 "metadata": {
  "kernelspec": {
   "display_name": "Python 3 (ipykernel)",
   "language": "python",
   "name": "python3"
  },
  "language_info": {
   "codemirror_mode": {
    "name": "ipython",
    "version": 3
   },
   "file_extension": ".py",
   "mimetype": "text/x-python",
   "name": "python",
   "nbconvert_exporter": "python",
   "pygments_lexer": "ipython3",
   "version": "3.9.13"
  }
 },
 "nbformat": 4,
 "nbformat_minor": 5
}
